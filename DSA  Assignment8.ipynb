{
 "cells": [
  {
   "cell_type": "code",
   "execution_count": null,
   "id": "ecb9badb-d220-424f-a3bb-9284cc2c71ba",
   "metadata": {},
   "outputs": [],
   "source": [
    "# Q8. Write a program to check if all the brackets are closed in a given code snippet."
   ]
  },
  {
   "cell_type": "code",
   "execution_count": 1,
   "id": "e6bde300-11ed-4e7a-bedc-7854b4fcfa8c",
   "metadata": {},
   "outputs": [
    {
     "name": "stdout",
     "output_type": "stream",
     "text": [
      "Not Balanced\n"
     ]
    }
   ],
   "source": [
    "def brackets_check(x):\n",
    "    var = []\n",
    " \n",
    "    for i in x:\n",
    "        if i in [\"(\", \"{\", \"[\"]:\n",
    "            var.append(i)\n",
    "            \n",
    "        else:\n",
    "            if not var:\n",
    "                return False\n",
    "            temp_char = var.pop()\n",
    "            if temp_char == '(':\n",
    "                if i != \")\":\n",
    "                    return False\n",
    "            if temp_char == '{':\n",
    "                if i != \"}\":\n",
    "                    return False\n",
    "            if temp_char == '[':\n",
    "                if i != \"]\":\n",
    "                    return False\n",
    " \n",
    "    if var:\n",
    "        return False\n",
    "    return True\n",
    "\n",
    "x = \"{()}[(]\"\n",
    "    \n",
    "if brackets_check(x):\n",
    "    print(\"Balanced\")\n",
    "else:\n",
    "    print(\"Not Balanced\")"
   ]
  }
 ],
 "metadata": {
  "kernelspec": {
   "display_name": "anaconda-2022.05-py39",
   "language": "python",
   "name": "conda-env-anaconda-2022.05-py39-py"
  },
  "language_info": {
   "codemirror_mode": {
    "name": "ipython",
    "version": 3
   },
   "file_extension": ".py",
   "mimetype": "text/x-python",
   "name": "python",
   "nbconvert_exporter": "python",
   "pygments_lexer": "ipython3",
   "version": "3.9.12"
  }
 },
 "nbformat": 4,
 "nbformat_minor": 5
}
