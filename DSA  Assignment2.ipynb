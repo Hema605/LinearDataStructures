{
 "cells": [
  {
   "cell_type": "code",
   "execution_count": null,
   "id": "8abf375a-a959-4199-850b-ffe8463a8780",
   "metadata": {},
   "outputs": [],
   "source": [
    "# Q2. Write a program to reverse an array in place? In place means you cannot create a new array. You have to update the original array."
   ]
  },
  {
   "cell_type": "code",
   "execution_count": 1,
   "id": "a80bf9a2-ca7a-4aba-a205-e37d4c48dc34",
   "metadata": {},
   "outputs": [
    {
     "name": "stdout",
     "output_type": "stream",
     "text": [
      "[10, 20, 130, 40, 150, 80, 100]\n",
      "REVERSED ARRAY\n",
      "[100, 80, 150, 40, 130, 20, 10]\n"
     ]
    }
   ],
   "source": [
    "def ReverseArray(Array, first, last):\n",
    "    while first < last:\n",
    "        Array[first],Array[last] = Array[last],Array[first]\n",
    "        \n",
    "        first += 1\n",
    "        last -= 1\n",
    "        \n",
    "        \n",
    "Array = [10,20,130,40,150,80,100]\n",
    "print(Array)\n",
    "ReverseArray(Array, 0, 6)\n",
    "print(\"REVERSED ARRAY\")\n",
    "print(Array)"
   ]
  },
  {
   "cell_type": "code",
   "execution_count": 2,
   "id": "5ecdc00a-a13f-429a-a3bd-4bbc950f05e9",
   "metadata": {},
   "outputs": [
    {
     "data": {
      "text/plain": [
       "[9, 8, 6, 5, 1]"
      ]
     },
     "execution_count": 2,
     "metadata": {},
     "output_type": "execute_result"
    }
   ],
   "source": [
    "def Array(array):\n",
    "    return array[::-1]\n",
    "array = [1,5,6,8,9]\n",
    "Array(array)"
   ]
  }
 ],
 "metadata": {
  "kernelspec": {
   "display_name": "anaconda-2022.05-py39",
   "language": "python",
   "name": "conda-env-anaconda-2022.05-py39-py"
  },
  "language_info": {
   "codemirror_mode": {
    "name": "ipython",
    "version": 3
   },
   "file_extension": ".py",
   "mimetype": "text/x-python",
   "name": "python",
   "nbconvert_exporter": "python",
   "pygments_lexer": "ipython3",
   "version": "3.9.12"
  }
 },
 "nbformat": 4,
 "nbformat_minor": 5
}
