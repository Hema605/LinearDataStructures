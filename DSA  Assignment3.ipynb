{
 "cells": [
  {
   "cell_type": "code",
   "execution_count": null,
   "id": "13022274-3d57-4249-a3a7-0c48e298b60c",
   "metadata": {},
   "outputs": [],
   "source": [
    "# Q3. Write a program to check if two strings are a rotation of each other?"
   ]
  },
  {
   "cell_type": "code",
   "execution_count": 3,
   "id": "55b9373a-8732-496f-b19e-ce46248706fa",
   "metadata": {},
   "outputs": [
    {
     "name": "stdout",
     "output_type": "stream",
     "text": [
      "Strings are rotation of each other\n"
     ]
    }
   ],
   "source": [
    "def rotation_check(s1, s2):\n",
    "    if len(s1) == len(s2):\n",
    "        temp = s1 + s1\n",
    "        if temp.count(s2) > 0:\n",
    "            return 1\n",
    "    else:\n",
    "        return 0\n",
    "s1 = \"ABCD\"\n",
    "s2 = \"BCDA\"\n",
    "if rotation_check(s1, s2):\n",
    "    print(\"Strings are rotation of each other\")\n",
    "else:\n",
    "    print(\"Strings are not rotation!\")"
   ]
  }
 ],
 "metadata": {
  "kernelspec": {
   "display_name": "anaconda-2022.05-py39",
   "language": "python",
   "name": "conda-env-anaconda-2022.05-py39-py"
  },
  "language_info": {
   "codemirror_mode": {
    "name": "ipython",
    "version": 3
   },
   "file_extension": ".py",
   "mimetype": "text/x-python",
   "name": "python",
   "nbconvert_exporter": "python",
   "pygments_lexer": "ipython3",
   "version": "3.9.12"
  }
 },
 "nbformat": 4,
 "nbformat_minor": 5
}
