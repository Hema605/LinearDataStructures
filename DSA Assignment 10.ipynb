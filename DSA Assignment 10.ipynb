{
 "cells": [
  {
   "cell_type": "code",
   "execution_count": null,
   "id": "7140dbe4-ec73-43de-b9b9-8c07245ebeb2",
   "metadata": {},
   "outputs": [],
   "source": [
    "# Q10. Write a program to find the smallest number using a stack."
   ]
  },
  {
   "cell_type": "code",
   "execution_count": 1,
   "id": "f5e67d20-99e4-4e4e-a9c8-34e8aef1283a",
   "metadata": {},
   "outputs": [
    {
     "data": {
      "text/plain": [
       "-1"
      ]
     },
     "execution_count": 1,
     "metadata": {},
     "output_type": "execute_result"
    }
   ],
   "source": [
    "def min_value(stack):\n",
    "    x=sorted(stack)\n",
    "    return x[0]\n",
    "    \n",
    "stack=[50,7,4,3,-1]    \n",
    "min_value(stack) "
   ]
  },
  {
   "cell_type": "code",
   "execution_count": 2,
   "id": "2bc27315-1385-4295-b248-90f882b26976",
   "metadata": {},
   "outputs": [
    {
     "data": {
      "text/plain": [
       "14"
      ]
     },
     "execution_count": 2,
     "metadata": {},
     "output_type": "execute_result"
    }
   ],
   "source": [
    "stack1 = [45,67,23,55,14,88,90]\n",
    "min(*stack1)"
   ]
  }
 ],
 "metadata": {
  "kernelspec": {
   "display_name": "anaconda-2022.05-py39",
   "language": "python",
   "name": "conda-env-anaconda-2022.05-py39-py"
  },
  "language_info": {
   "codemirror_mode": {
    "name": "ipython",
    "version": 3
   },
   "file_extension": ".py",
   "mimetype": "text/x-python",
   "name": "python",
   "nbconvert_exporter": "python",
   "pygments_lexer": "ipython3",
   "version": "3.9.12"
  }
 },
 "nbformat": 4,
 "nbformat_minor": 5
}
