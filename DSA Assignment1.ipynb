{
 "cells": [
  {
   "cell_type": "code",
   "execution_count": null,
   "id": "7864e453-df6d-40a6-a98e-b4859a61d942",
   "metadata": {},
   "outputs": [],
   "source": [
    "# Q1. Write a program to find all pairs of an integer array whose sum is equal to a given number?"
   ]
  },
  {
   "cell_type": "code",
   "execution_count": 1,
   "id": "885651b4-0442-4bf0-b6f2-ab2243940ca2",
   "metadata": {},
   "outputs": [
    {
     "name": "stdout",
     "output_type": "stream",
     "text": [
      "(5,5)\n",
      "(6,4)\n",
      "(7,3)\n",
      "(8,2)\n",
      "(9,1)\n"
     ]
    }
   ],
   "source": [
    "def sum_pairs(array , num , sum):\n",
    "    for i in range(num):\n",
    "        for j in range(i+1 , num):\n",
    "            if array[i] + array[j] == sum:\n",
    "                print(\"(\",array[i],\",\",array[j],\")\",sep = \"\")\n",
    "                \n",
    "                \n",
    "                \n",
    "# drive the code\n",
    "array = [5,6,4,5,7,3,8,2,9,1]\n",
    "num = len(array)\n",
    "sum = 10\n",
    "\n",
    "\n",
    "sum_pairs(array, num, sum)"
   ]
  }
 ],
 "metadata": {
  "kernelspec": {
   "display_name": "anaconda-2022.05-py39",
   "language": "python",
   "name": "conda-env-anaconda-2022.05-py39-py"
  },
  "language_info": {
   "codemirror_mode": {
    "name": "ipython",
    "version": 3
   },
   "file_extension": ".py",
   "mimetype": "text/x-python",
   "name": "python",
   "nbconvert_exporter": "python",
   "pygments_lexer": "ipython3",
   "version": "3.9.12"
  }
 },
 "nbformat": 4,
 "nbformat_minor": 5
}
